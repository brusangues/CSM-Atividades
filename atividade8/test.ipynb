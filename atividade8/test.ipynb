{
 "metadata": {
  "language_info": {
   "codemirror_mode": {
    "name": "ipython",
    "version": 3
   },
   "file_extension": ".py",
   "mimetype": "text/x-python",
   "name": "python",
   "nbconvert_exporter": "python",
   "pygments_lexer": "ipython3",
   "version": "3.7.7-final"
  },
  "orig_nbformat": 2,
  "kernelspec": {
   "name": "python37764bitcntgconda1db2baea5e6d4fa89058661b43b35152",
   "display_name": "Python 3.7.7 64-bit ('cntg': conda)"
  }
 },
 "nbformat": 4,
 "nbformat_minor": 2,
 "cells": [
  {
   "source": [
    "# Exemplo da aula"
   ],
   "cell_type": "markdown",
   "metadata": {}
  },
  {
   "cell_type": "code",
   "execution_count": 2,
   "metadata": {},
   "outputs": [],
   "source": [
    "import numpy as np\n",
    "X = [-1.6117, 0.1983, -0.9080, 1.4386, 0.8024]"
   ]
  },
  {
   "cell_type": "code",
   "execution_count": 35,
   "metadata": {},
   "outputs": [
    {
     "output_type": "stream",
     "name": "stdout",
     "text": [
      "[[ 3.46136378 -0.49965651  1.4634236 ]]\n"
     ]
    }
   ],
   "source": [
    "def get_r(I,m,p,X):\n",
    "    '''\n",
    "    I = vetor de indices\n",
    "    m = Profundidade\n",
    "    p = ordem\n",
    "    '''\n",
    "    r = []\n",
    "    for i in I:\n",
    "        ri = 0\n",
    "        for j in I:\n",
    "            if j+i<=max(I):\n",
    "                ri += X[j]*X[j+i]\n",
    "        r.append(ri)\n",
    "    return np.float64(r).reshape((1,len(I)))\n",
    "I = [0,1,2]\n",
    "m = 2\n",
    "p = 2\n",
    "print(get_r(I,m,p,X))"
   ]
  },
  {
   "cell_type": "code",
   "execution_count": 36,
   "metadata": {},
   "outputs": [
    {
     "output_type": "stream",
     "name": "stdout",
     "text": [
      "[[ 3.46136378 -0.49965651]\n [-0.49965651  3.46136378]]\n"
     ]
    }
   ],
   "source": [
    "def get_R(I,m,p,X):\n",
    "    r = get_r(I,m,p,X)\n",
    "    R = np.zeros([m,m])\n",
    "    for i in range(m):\n",
    "        for j in range(m):\n",
    "            R[i,j] = r[0,abs(i-j)]\n",
    "    return R\n",
    "print(get_R(I,m,p,X))"
   ]
  },
  {
   "cell_type": "code",
   "execution_count": 38,
   "metadata": {},
   "outputs": [
    {
     "output_type": "stream",
     "name": "stdout",
     "text": [
      "[[-0.49965651]\n [ 1.4634236 ]]\n"
     ]
    }
   ],
   "source": [
    "def get_r_prime(I,m,p,X):\n",
    "    r = get_r(I,m,p,X)\n",
    "    r_prime = r[:,1:m+1].T\n",
    "    return r_prime\n",
    "print(get_r_prime(I,m,p,X))"
   ]
  },
  {
   "cell_type": "code",
   "execution_count": 39,
   "metadata": {},
   "outputs": [
    {
     "output_type": "stream",
     "name": "stdout",
     "text": [
      "[[ 0.08509515]\n [-0.41050445]]\n"
     ]
    }
   ],
   "source": [
    "def get_A(I,m,p,X):\n",
    "    R = get_R(I,m,p,X)\n",
    "    r_prime = get_r_prime(I,m,p,X)\n",
    "    R_inv = np.linalg.inv(R) \n",
    "    A = np.matmul(R_inv, -r_prime)\n",
    "    return A\n",
    "print(get_A(I,m,p,X))"
   ]
  },
  {
   "source": [
    "# Prova 2 b: Questão 5"
   ],
   "cell_type": "markdown",
   "metadata": {}
  },
  {
   "cell_type": "code",
   "execution_count": null,
   "metadata": {},
   "outputs": [],
   "source": [
    "RA = 11201721076\n",
    "R1 = 11\n",
    "R2 = 20\n",
    "R3 = 17\n",
    "R4 = 21\n",
    "\n",
    "X = [-0.1587, 0.1195, -0.2520, 0.0171, 1.2162, -1.6117, 0.1983, -0.9080, 1.4386, 0.8024, -1.6272, 0.0459, -0.5898, 0.5891, 0.1483, -0.1429]"
   ]
  },
  {
   "source": [
    "## 1.a) (0,5) Determine a autocorrelação do intervalo i= 1, 2, 3 e 4, para m= 0, 1, 2 e 3, para o cálculo de um modelo LPC de ordem p=3."
   ],
   "cell_type": "markdown",
   "metadata": {}
  },
  {
   "cell_type": "code",
   "execution_count": 87,
   "metadata": {},
   "outputs": [],
   "source": [
    "# Definição de funções\n",
    "def get_r(I,m,p,X, debug=0):\n",
    "    '''\n",
    "    I = vetor de indices\n",
    "    m = Profundidade\n",
    "    p = ordem\n",
    "    '''\n",
    "    r = []\n",
    "    for i in range(0,max(I)):\n",
    "        ri = 0\n",
    "        if debug: print(\"r[\",i,\"] =\",end=\"\", sep=\"\")\n",
    "        for j in I:\n",
    "            if j+i>max(I):\n",
    "                break\n",
    "            if debug: print(\" + X[\",j,\"]*X[\",j,\"+\",i,\"]\",end=\"\",sep=\"\")\n",
    "            #print(X[j],\"*\",X[j+i])\n",
    "            ri += X[j]*X[j+i]\n",
    "        if debug: print()\n",
    "        r.append(ri)\n",
    "    return np.float64(r).reshape((1,len(I)))"
   ]
  },
  {
   "cell_type": "code",
   "execution_count": 86,
   "metadata": {},
   "outputs": [
    {
     "output_type": "stream",
     "name": "stdout",
     "text": [
      "r[0] = + X[1]*X[1+0] + X[2]*X[2+0] + X[3]*X[3+0] + X[4]*X[4+0]\nr[1] = + X[1]*X[1+1] + X[2]*X[2+1] + X[3]*X[3+1]\nr[2] = + X[1]*X[1+2] + X[2]*X[2+2]\nr[3] = + X[1]*X[1+3]\nVetor de autocorrelação r:\n[[ 3.57720261 -0.33197256 -0.44330482  0.15911592]]\n"
     ]
    }
   ],
   "source": [
    "# Autocorrelação\n",
    "I = [1,2,3,4]\n",
    "m = 3\n",
    "p = 3\n",
    "\n",
    "r = get_r(I,m,p,X,debug=True)\n",
    "print(\"Vetor de autocorrelação r:\")\n",
    "print(r)"
   ]
  },
  {
   "source": [
    "## 1.b) (0,5) Escreva a formulação do problema dos coeficientes de predição com os valores da matriz de autocorrelação (equações normais, ou Yule-Walker);"
   ],
   "cell_type": "markdown",
   "metadata": {}
  },
  {
   "source": [
    "#### Formulação do problema:\n",
    "$Ra = -r' $<br>\n",
    "$a = R^{-1} {-r'}$\n",
    "\n",
    "#### Em termos de variáveis:\n",
    "a = R_inv r_prime_minus"
   ],
   "cell_type": "markdown",
   "metadata": {}
  },
  {
   "cell_type": "code",
   "execution_count": 77,
   "metadata": {},
   "outputs": [],
   "source": [
    "# Definição de Funções\n",
    "def get_R(I,m,p,X,debug=0):\n",
    "    r = get_r(I,m,p,X)\n",
    "    R = np.zeros([m,m])\n",
    "    if debug: print(\"R =\")\n",
    "    for i in range(m):\n",
    "        for j in range(m):\n",
    "            if debug: print(\" r[\",abs(i-j),\"]\",end=\"\", sep=\"\")\n",
    "            R[i,j] = r[0,abs(i-j)]\n",
    "        print()\n",
    "    return R\n",
    "\n",
    "def get_r_prime(I,m,p,X,debug=0):\n",
    "    r = get_r(I,m,p,X)\n",
    "\n",
    "    if debug: \n",
    "        print(\"r_prime = [[\",end=\"\", sep=\"\")\n",
    "        [print(\" r[\",i,\"]\",end=\"\", sep=\"\") for i in range(1,m+1)]\n",
    "        print(\" ]].Transposed\")\n",
    "\n",
    "    r_prime = r[:,1:m+1].T\n",
    "    return r_prime"
   ]
  },
  {
   "cell_type": "code",
   "execution_count": 88,
   "metadata": {},
   "outputs": [
    {
     "output_type": "stream",
     "name": "stdout",
     "text": [
      "R =\n r[0] r[1] r[2]\n r[1] r[0] r[1]\n r[2] r[1] r[0]\nR = \n [[ 3.57720261 -0.33197256 -0.44330482]\n [-0.33197256  3.57720261 -0.33197256]\n [-0.44330482 -0.33197256  3.57720261]]\nR_inv = \n [[0.28710788 0.0302063  0.03838306]\n [0.0302063  0.28515447 0.0302063 ]\n [0.03838306 0.0302063  0.28710788]]\n"
     ]
    }
   ],
   "source": [
    "R = get_R(I,m,p,X,1)\n",
    "print(\"R = \\n\", R)\n",
    "\n",
    "R_inv = np.linalg.inv(R)\n",
    "print(\"R_inv = \\n\", R_inv)"
   ]
  },
  {
   "cell_type": "code",
   "execution_count": 89,
   "metadata": {},
   "outputs": [
    {
     "output_type": "stream",
     "name": "stdout",
     "text": [
      "r_prime = [[ r[1] r[2] r[3] ]].Transposed\nr_prime = \n [[-0.33197256]\n [-0.44330482]\n [ 0.15911592]]\nr_prime_minus = \n [[ 0.33197256]\n [ 0.44330482]\n [-0.15911592]]\n"
     ]
    }
   ],
   "source": [
    "r_prime = get_r_prime(I,m,p,X,1)\n",
    "print(\"r_prime = \\n\",r_prime)\n",
    "\n",
    "r_prime_minus = -r_prime \n",
    "print(\"r_prime_minus = \\n\",r_prime_minus)"
   ]
  },
  {
   "cell_type": "code",
   "execution_count": 90,
   "metadata": {},
   "outputs": [
    {
     "output_type": "stream",
     "name": "stdout",
     "text": [
      "a = \n [[ 0.10259518]\n [ 0.13163171]\n [-0.01955071]]\n"
     ]
    }
   ],
   "source": [
    "a = np.matmul(R_inv, r_prime_minus)\n",
    "print(\"a = \\n\", a)"
   ]
  },
  {
   "source": [
    "## 1.c) (0,5) Resolva o problema pela inversão da matriz de autocorrelação, calculando os coeficientes LPC, a= {a1, a2, a3}T."
   ],
   "cell_type": "markdown",
   "metadata": {}
  },
  {
   "cell_type": "code",
   "execution_count": 93,
   "metadata": {},
   "outputs": [
    {
     "output_type": "stream",
     "name": "stdout",
     "text": [
      "a1 = [0.10259518]\na2 = [0.13163171]\na3 = [-0.01955071]\n"
     ]
    }
   ],
   "source": [
    "a1 = a[0]\n",
    "a2 = a[1]\n",
    "a3 = a[2]\n",
    "\n",
    "print(\"a1 =\", a1)\n",
    "print(\"a2 =\", a2)\n",
    "print(\"a3 =\", a3)"
   ]
  }
 ]
}