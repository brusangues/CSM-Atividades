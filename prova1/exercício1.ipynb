{
 "metadata": {
  "language_info": {
   "codemirror_mode": {
    "name": "ipython",
    "version": 3
   },
   "file_extension": ".py",
   "mimetype": "text/x-python",
   "name": "python",
   "nbconvert_exporter": "python",
   "pygments_lexer": "ipython3",
   "version": "3.7.0-final"
  },
  "orig_nbformat": 2,
  "kernelspec": {
   "name": "Python 3.7.0 64-bit ('cntg': conda)",
   "display_name": "Python 3.7.0 64-bit ('cntg': conda)",
   "metadata": {
    "interpreter": {
     "hash": "da38ee619f33491ea56bc9ba7b12e0a3edaf94d032cdd61f20c50d887a8a31c3"
    }
   }
  }
 },
 "nbformat": 4,
 "nbformat_minor": 2,
 "cells": [
  {
   "cell_type": "code",
   "execution_count": 14,
   "metadata": {},
   "outputs": [],
   "source": [
    "import numpy as np\n",
    "\n",
    "# Questão 1\n",
    "RA = 11201721076\n",
    "R1,R2,R3,R4 = 1,72,10,76\n",
    "A = [[01.4,72.5],[10.9,76.7]]\n",
    "A = np.array(A)"
   ]
  },
  {
   "cell_type": "code",
   "execution_count": 15,
   "metadata": {},
   "outputs": [
    {
     "output_type": "stream",
     "name": "stdout",
     "text": [
      "A\n[[ 1.4 72.5]\n [10.9 76.7]]\n\nA_dct\n[[ 80.75 -68.45]\n [ -6.85  -2.65]]\n"
     ]
    }
   ],
   "source": [
    "# a) (1,5) Calcule a DCT-2D através da equação de definição 2D, conforme a lista 1 de exercícios no Tidia4. Obs. Utilize duas casas decimais.\n",
    "\n",
    "# Definindo funções para a a dct 2d\n",
    "def C(w,k):\n",
    "    if w == 0:\n",
    "        return (1/k)**(1/2)\n",
    "    return (2/k)**(1/2)\n",
    "\n",
    "def summation1(block,u,v):\n",
    "    h,w = block.shape\n",
    "    res = 0\n",
    "    for x in range(w):\n",
    "        for y in range(h):\n",
    "            res+= block[x,y]* np.cos(((2*x+1)*u*np.pi)/(2*w))* np.cos(((2*y+1)*v*np.pi)/(2*h))\n",
    "    return res\n",
    "\n",
    "def F(block,u,v):\n",
    "    h,w = block.shape\n",
    "    return C(u,w)*C(v,h)*summation1(block,u,v)\n",
    "\n",
    "def dct(block):\n",
    "    block = np.float32(block)\n",
    "    dctBlock = np.zeros(block.shape)\n",
    "    h,w = block.shape\n",
    "    for u in range(w):\n",
    "        for v in range(h):\n",
    "            dctBlock[u,v] = F(block,u,v)\n",
    "    return np.float32(dctBlock) \n",
    "\n",
    "A_dct = dct(A)\n",
    "A_dct = np.round(A_dct,2)\n",
    "\n",
    "# Print\n",
    "print(\"A\")\n",
    "print(A)\n",
    "\n",
    "print(\"\\nA_dct\")\n",
    "print(A_dct)"
   ]
  },
  {
   "cell_type": "code",
   "execution_count": 16,
   "metadata": {},
   "outputs": [
    {
     "output_type": "stream",
     "name": "stdout",
     "text": [
      "A_dct_round\n[[ 81. -68.]\n [ -7.  -3.]]\n\nMSE entre imagem original e DCT\n8193.702287864688\n\nMSE entre DCT e DCT arredondada\n0.10249930620193481\n"
     ]
    }
   ],
   "source": [
    "# b) (0,5) Com o valor obtido no item anterior, faça o arredondamento simples para um número inteiro (como a função round(.)), e calcule o erro quadrático médio da DCT deste bloco.\n",
    "A_dct_round = np.round(A_dct)\n",
    "print(\"A_dct_round\")\n",
    "print(A_dct_round)\n",
    "\n",
    "def MSE(a,b):\n",
    "    h,w = a.shape\n",
    "    c = np.subtract(a,b)\n",
    "    c = np.multiply(c,c)\n",
    "    res = np.sum(c)/(h*w)\n",
    "    return res\n",
    "\n",
    "print(\"\\nMSE entre imagem original e DCT\")\n",
    "print(MSE(A,A_dct))\n",
    "\n",
    "print(\"\\nMSE entre DCT e DCT arredondada\")\n",
    "print(MSE(A_dct,A_dct_round))"
   ]
  },
  {
   "cell_type": "code",
   "execution_count": 17,
   "metadata": {},
   "outputs": [
    {
     "output_type": "stream",
     "name": "stdout",
     "text": [
      "[[16. -9.]\n [-1. -0.]]\n"
     ]
    }
   ],
   "source": [
    "# c) (0,5) Efetue a quantização dos coeficientes, obtendo o valor inteiro quantizado, através da tabela:\n",
    "q = np.array([[5, 8],\n",
    "              [8,12]])\n",
    "\n",
    "# Quantização\n",
    "def quantize(a,q):\n",
    "    b = np.divide(a,q)\n",
    "    b = np.round(b)\n",
    "    return b\n",
    "\n",
    "print(quantize(A_dct,q))"
   ]
  }
 ]
}