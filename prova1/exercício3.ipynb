{
 "metadata": {
  "language_info": {
   "codemirror_mode": {
    "name": "ipython",
    "version": 3
   },
   "file_extension": ".py",
   "mimetype": "text/x-python",
   "name": "python",
   "nbconvert_exporter": "python",
   "pygments_lexer": "ipython3",
   "version": "3.7.0-final"
  },
  "orig_nbformat": 2,
  "kernelspec": {
   "name": "Python 3.7.0 64-bit ('cntg': conda)",
   "display_name": "Python 3.7.0 64-bit ('cntg': conda)",
   "metadata": {
    "interpreter": {
     "hash": "da38ee619f33491ea56bc9ba7b12e0a3edaf94d032cdd61f20c50d887a8a31c3"
    }
   }
  }
 },
 "nbformat": 4,
 "nbformat_minor": 2,
 "cells": [
  {
   "cell_type": "code",
   "execution_count": 1,
   "metadata": {},
   "outputs": [
    {
     "output_type": "stream",
     "name": "stdout",
     "text": [
      "H4\n [[ 0.5         0.5         0.5         0.5       ]\n [ 0.5         0.5        -0.5        -0.5       ]\n [ 0.70710678 -0.70710678  0.          0.        ]\n [ 0.          0.          0.70710678 -0.70710678]]\nF\n [[ 1  0  0  1]\n [ 0 72 72  0]\n [ 0 10 10  0]\n [76  0  0 76]]\n"
     ]
    }
   ],
   "source": [
    "import numpy as np\n",
    "\n",
    "# Questão 3\n",
    "\n",
    "sqrt2 = np.sqrt(2)\n",
    "H4 =   [[    1,     1,     1,     1],\n",
    "        [    1,     1,    -1,    -1],\n",
    "        [sqrt2,-sqrt2,     0,     0],\n",
    "        [    0,     0, sqrt2,-sqrt2]]\n",
    "H4 = np.array(H4)/2\n",
    "\n",
    "\n",
    "RA = 11201721076\n",
    "R1,R2,R3,R4 = 1,72,10,76\n",
    "\n",
    "F =[[R1, 0, 0,R1],\n",
    "    [ 0,R2,R2, 0],\n",
    "    [ 0,R3,R3, 0],\n",
    "    [R4, 0, 0,R4]]\n",
    "F = np.array(F)\n",
    "\n",
    "print(\"H4\\n\",H4)\n",
    "print(\"F\\n\",F)\n"
   ]
  },
  {
   "cell_type": "code",
   "execution_count": 4,
   "metadata": {},
   "outputs": [
    {
     "output_type": "stream",
     "name": "stdout",
     "text": [
      "T\n [[ 7.95000000e+01  0.00000000e+00 -1.76776695e+00  1.76776695e+00]\n [-6.50000000e+00  0.00000000e+00 -4.84368145e+01  4.84368145e+01]\n [-5.02045815e+01 -7.21644966e-16  3.65000000e+01 -3.65000000e+01]\n [-4.66690476e+01  0.00000000e+00 -4.30000000e+01  4.30000000e+01]]\n\nArrendondando para tornar mais legível\nT_round\n [[ 79.5    0.    -1.77   1.77]\n [ -6.5    0.   -48.44  48.44]\n [-50.2   -0.    36.5  -36.5 ]\n [-46.67   0.   -43.    43.  ]]\n"
     ]
    }
   ],
   "source": [
    "# a) (1,5) Calcule a transforma de Haar para a imagem F4x4 que você montou com seu RA.\n",
    "def Haar(F):\n",
    "    H4F = np.matmul(H4,F)\n",
    "    T = np.matmul(H4F,H4.T)\n",
    "    return T\n",
    "\n",
    "T = Haar(F)\n",
    "\n",
    "print(\"T\\n\", T)\n",
    "\n",
    "print(\"\\nArrendondando para tornar mais legível\")\n",
    "print(\"T_round\\n\", np.round(T,2))"
   ]
  },
  {
   "cell_type": "code",
   "execution_count": 14,
   "metadata": {},
   "outputs": [
    {
     "output_type": "stream",
     "name": "stdout",
     "text": [
      "F_original\n [[ 1  0  0  1]\n [ 0 72 72  0]\n [ 0 10 10  0]\n [76  0  0 76]]\nF_reconstructed (Arrendondado para tornar mais legível)\n [[ 1. -0. -0.  1.]\n [-0. 72. 72. -0.]\n [ 0. 10. 10.  0.]\n [76.  0.  0. 76.]]\n"
     ]
    }
   ],
   "source": [
    "# b) (1,0) Faça a reconstrução da imagem, a partir de T, obtendo novamente F e mostre todos os Cálculos efetuados.\n",
    "\n",
    "### Cálculos\n",
    "# Legenda:\n",
    "#   H_t     = Transposta de H\n",
    "#   H_inv   = Inversa de H\n",
    "#   H_t_inv = Inversa da Transposta de H\n",
    "\n",
    "\n",
    "#               T = H F H_t\n",
    "#         H_inv T = H_inv H F H_t\n",
    "#         H_inv T = F H_t\n",
    "# H_inv T H_t_inv = F H_t H_t_inv\n",
    "# H_inv T H_t_inv = F\n",
    "#   H_t T H_t_inv = F\n",
    "#               F = H_t T H_t_inv\n",
    "\n",
    "def Haar_inv(T):\n",
    "    # F = H_t T H_t_inv\n",
    "    H_t     = H4.T\n",
    "    H_t_inv = np.linalg.inv(H4.T)\n",
    "\n",
    "    H_tT = np.matmul(H_t,T)\n",
    "    F = np.matmul(H_tT,H_t_inv)\n",
    "    return F\n",
    "\n",
    "F_reconstructed = Haar_inv(T)\n",
    "\n",
    "print(\"F_original\\n\", F)\n",
    "print(\"F_reconstructed (Arrendondado para tornar mais legível)\\n\", np.round(F_reconstructed))"
   ]
  },
  {
   "source": [
    "<img src=\"exercício3b.jpeg\" width=500px>"
   ],
   "cell_type": "markdown",
   "metadata": {}
  }
 ]
}