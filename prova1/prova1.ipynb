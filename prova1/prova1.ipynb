{
 "metadata": {
  "language_info": {
   "codemirror_mode": {
    "name": "ipython",
    "version": 3
   },
   "file_extension": ".py",
   "mimetype": "text/x-python",
   "name": "python",
   "nbconvert_exporter": "python",
   "pygments_lexer": "ipython3",
   "version": "3.7.0-final"
  },
  "orig_nbformat": 2,
  "kernelspec": {
   "name": "Python 3.7.0 64-bit ('cntg': conda)",
   "display_name": "Python 3.7.0 64-bit ('cntg': conda)",
   "metadata": {
    "interpreter": {
     "hash": "da38ee619f33491ea56bc9ba7b12e0a3edaf94d032cdd61f20c50d887a8a31c3"
    }
   }
  }
 },
 "nbformat": 4,
 "nbformat_minor": 2,
 "cells": [
  {
   "cell_type": "code",
   "execution_count": 5,
   "metadata": {},
   "outputs": [
    {
     "output_type": "stream",
     "name": "stdout",
     "text": [
      "[[ 1.4 72.5]\n [10.9 76.7]]\n[[ 80.75      -68.45     ]\n [ -6.8499985  -2.6500013]]\n"
     ]
    }
   ],
   "source": [
    "# Questão 1\n",
    "RA = 11201721076\n",
    "R1,R2,R3,R4 = 1,72,10,76\n",
    "A = [[01.4,72.5],[10.9,76.7]]\n",
    "A = np.array(A)"
   ]
  },
  {
   "cell_type": "code",
   "execution_count": 14,
   "metadata": {},
   "outputs": [
    {
     "output_type": "stream",
     "name": "stdout",
     "text": [
      "[[ 1.4 72.5]\n [10.9 76.7]]\n[[ 80.75      -68.45     ]\n [ -6.8499985  -2.6500013]]\n"
     ]
    }
   ],
   "source": [
    "# a) (1,5) Calcule a DCT-2D através da equação de definição 2D, conforme a lista 1 de exercícios no Tidia4. Obs. Utilize duas casas decimais.\n",
    "import numpy as np\n",
    "# Definindo funções para a a dct 2d\n",
    "def C(w,k):\n",
    "    if w == 0:\n",
    "        return (1/k)**(1/2)\n",
    "    return (2/k)**(1/2)\n",
    "\n",
    "def summation1(block,u,v):\n",
    "    h,w = block.shape\n",
    "    res = 0\n",
    "    for x in range(w):\n",
    "        for y in range(h):\n",
    "            res+= block[x,y]* np.cos(((2*x+1)*u*np.pi)/(2*w))* np.cos(((2*y+1)*v*np.pi)/(2*h))\n",
    "    return res\n",
    "\n",
    "def F(block,u,v):\n",
    "    h,w = block.shape\n",
    "    return C(u,w)*C(v,h)*summation1(block,u,v)\n",
    "\n",
    "def dct(block):\n",
    "    block = np.float32(block)\n",
    "    dctBlock = np.zeros(block.shape)\n",
    "    h,w = block.shape\n",
    "    for u in range(w):\n",
    "        for v in range(h):\n",
    "            dctBlock[u,v] = F(block,u,v)\n",
    "    return np.float32(dctBlock) \n",
    "\n",
    "A_dct = dct(A)\n",
    "\n",
    "# Print\n",
    "print(A)\n",
    "print(A_dct)"
   ]
  },
  {
   "cell_type": "code",
   "execution_count": 19,
   "metadata": {},
   "outputs": [
    {
     "output_type": "stream",
     "name": "stdout",
     "text": [
      "A_dct_round\n[[ 81. -68.]\n [ -7.  -3.]]\nMSE entre imagem original e DCT\n8193.702322465184\n\nMSE entre DCT e DCT arredondada\n0.10249920189380646\n"
     ]
    }
   ],
   "source": [
    "# b) (0,5) Com o valor obtido no item anterior, faça o arredondamento simples para um número inteiro (como a função round(.)), e calcule o erro quadrático médio da DCT deste bloco.\n",
    "A_dct_round = np.round(A_dct)\n",
    "print(\"A_dct_round\")\n",
    "print(A_dct_round)\n",
    "\n",
    "def MSE(a,b):\n",
    "    h,w = a.shape\n",
    "    c = np.subtract(a,b)\n",
    "    c = np.multiply(c,c)\n",
    "    res = np.sum(c)/(h*w)\n",
    "    return res\n",
    "\n",
    "print(\"MSE entre imagem original e DCT\")\n",
    "print(MSE(A,A_dct))\n",
    "\n",
    "print(\"\\nMSE entre DCT e DCT arredondada\")\n",
    "print(MSE(A_dct,A_dct_round))"
   ]
  },
  {
   "cell_type": "code",
   "execution_count": 20,
   "metadata": {},
   "outputs": [
    {
     "output_type": "stream",
     "name": "stdout",
     "text": [
      "[[16. -9.]\n [-1. -0.]]\n"
     ]
    }
   ],
   "source": [
    "# c) (0,5) Efetue a quantização dos coeficientes, obtendo o valor inteiro quantizado, através da tabela:\n",
    "q = np.array([[5, 8],\n",
    "              [8,12]])\n",
    "\n",
    "# Quantização\n",
    "def quantize(a,q):\n",
    "    b = np.divide(a,q)\n",
    "    b = np.round(b)\n",
    "    return b\n",
    "\n",
    "print(quantize(A_dct,q))"
   ]
  },
  {
   "cell_type": "code",
   "execution_count": 3,
   "metadata": {},
   "outputs": [],
   "source": [
    "# Definindo funções para a a dct 2d inversa\n",
    "def summation2(dctBlock,x,y):\n",
    "    res = 0\n",
    "    h,w = dctBlock.shape\n",
    "    for u in range(w):\n",
    "        for v in range(h):\n",
    "            res_temp = C(u,w)*C(v,h)*dctBlock[u,v]\n",
    "            res_temp*= np.cos(((2*x+1)*u*np.pi)/(2*w))* np.cos(((2*y+1)*v*np.pi)/(2*h))\n",
    "            res+= res_temp\n",
    "    return res\n",
    "\n",
    "def dct_inv(dctBlock):\n",
    "    dctBlock = np.float32(dctBlock)\n",
    "    dctInvBlock = np.zeros(dctBlock.shape)\n",
    "    h,w = dctBlock.shape\n",
    "    for x in range(w):\n",
    "        for y in range(h):\n",
    "            dctInvBlock[x,y] = summation2(dctBlock,x,y)\n",
    "    return np.float32(dctInvBlock)"
   ]
  },
  {
   "cell_type": "code",
   "execution_count": 15,
   "metadata": {},
   "outputs": [
    {
     "output_type": "stream",
     "name": "stdout",
     "text": [
      "0.07485000000000014\n"
     ]
    }
   ],
   "source": [
    "# Mean Squared Error\n",
    "def MSE(a,b):\n",
    "    h,w = a.shape\n",
    "    c = np.subtract(a,b)\n",
    "    c = np.multiply(c,c)\n",
    "    res = np.sum(c)/(h*w)\n",
    "    return res\n",
    "\n",
    "def PSNR(a,b): \n",
    "    mse = MSE(a,b)\n",
    "\n",
    "    L = 255.0\n",
    "    psnr = 20 * np.log10(L /np.sqrt(mse))\n",
    "    return psnr\n",
    "\n",
    "A_DCT  = np.array([[7.26,9.21],[9.14,11.59]])\n",
    "A_DCT2 = np.array([[7,9],[9,12]])\n",
    "print(MSE(A_DCT,A_DCT2))"
   ]
  },
  {
   "cell_type": "code",
   "execution_count": 16,
   "metadata": {},
   "outputs": [
    {
     "output_type": "stream",
     "name": "stdout",
     "text": [
      "[[1. 1.]\n [1. 1.]]\n"
     ]
    }
   ],
   "source": [
    "# Quantização\n",
    "def quantize(a,q):\n",
    "    b = np.divide(a,q)\n",
    "    b = np.round(b)\n",
    "    return b\n",
    "q = np.array([[5,7],[7,8]])\n",
    "print(quantize(A_DCT,q))"
   ]
  },
  {
   "cell_type": "code",
   "execution_count": 17,
   "metadata": {},
   "outputs": [
    {
     "output_type": "stream",
     "name": "stdout",
     "text": [
      "[[20.4 15.2 29.1 20.5]\n [17.3 15.9 31.2 22.3]\n [15.2 18.1 17.  25.1]\n [20.8 22.3 18.7 17.8]]\n[[34.399998    3.2999997  51.55        8.750001  ]\n [ 1.2000003   1.9000001  -1.9499998  -0.15000057]\n [38.2        -2.2000003  39.3        -3.5999994 ]\n [-4.899999   -0.7000003   2.8000002  -4.500001  ]]\n"
     ]
    }
   ],
   "source": [
    "# Questão 2\n",
    "Y = [[20.4, 15.2, 29.1, 20.5],\n",
    "    [17.3, 15.9, 31.2, 22.3],\n",
    "    [15.2, 18.1, 17.0, 25.1],\n",
    "    [20.8, 22.3, 18.7, 17.8]]\n",
    "Y = np.array(Y)\n",
    "\n",
    "# a)\n",
    "Y_DCT_2x2 = np.zeros(Y.shape, dtype=np.float32)\n",
    "for i in range(0,4,2):\n",
    "    for j in range(0,4,2):\n",
    "        Y_DCT_2x2[i:i+2,j:j+2] = dct(Y[i:i+2,j:j+2])\n",
    "\n",
    "print(Y)\n",
    "print(Y_DCT_2x2)"
   ]
  },
  {
   "cell_type": "code",
   "execution_count": 18,
   "metadata": {},
   "outputs": [
    {
     "output_type": "stream",
     "name": "stdout",
     "text": [
      "[[198.20498271 561.24748909]\n [532.64500394 517.7699924 ]]\n"
     ]
    }
   ],
   "source": [
    "# b)\n",
    "MSEs = np.zeros((2,2))\n",
    "for i in range(0,4,2):\n",
    "    for j in range(0,4,2):\n",
    "        MSEs[int(i/2),int(j/2)] = MSE(Y[i:i+2,j:j+2], Y_DCT_2x2[i:i+2,j:j+2])\n",
    "print(MSEs)"
   ]
  },
  {
   "cell_type": "code",
   "execution_count": 19,
   "metadata": {},
   "outputs": [
    {
     "output_type": "stream",
     "name": "stdout",
     "text": [
      "[[ 7.  0. 10.  1.]\n [ 0.  0. -0. -0.]\n [ 8. -0.  8. -1.]\n [-1. -0.  0. -1.]]\n"
     ]
    }
   ],
   "source": [
    "# c)\n",
    "Q = np.array([[5,15],[15,20]])\n",
    "\n",
    "Y_DCT_Q = np.zeros(Y.shape)\n",
    "for i in range(0,4,2):\n",
    "    for j in range(0,4,2):\n",
    "        Y_DCT_Q[i:i+2,j:j+2] = quantize(Y_DCT_2x2[i:i+2,j:j+2],q)\n",
    "print(Y_DCT_Q)"
   ]
  },
  {
   "cell_type": "code",
   "execution_count": 20,
   "metadata": {},
   "outputs": [
    {
     "output_type": "stream",
     "name": "stdout",
     "text": [
      "[[3.5 3.5 5.5 4.5]\n [3.5 3.5 5.5 4.5]\n [3.5 3.5 3.  5. ]\n [4.5 4.5 4.  4. ]]\n"
     ]
    }
   ],
   "source": [
    "# d)\n",
    "Y_INV = np.zeros(Y.shape)\n",
    "\n",
    "for i in range(0,4,2):\n",
    "    for j in range(0,4,2):\n",
    "        Y_INV[i:i+2,j:j+2] = dct_inv(Y_DCT_Q[i:i+2,j:j+2])\n",
    "print(Y_INV)"
   ]
  },
  {
   "cell_type": "code",
   "execution_count": 21,
   "metadata": {},
   "outputs": [
    {
     "output_type": "stream",
     "name": "stdout",
     "text": [
      "23.643634155605582\n"
     ]
    }
   ],
   "source": [
    "# e)\n",
    "psnr = PSNR(Y,Y_INV)\n",
    "print(psnr)"
   ]
  },
  {
   "cell_type": "code",
   "execution_count": 22,
   "metadata": {},
   "outputs": [],
   "source": [
    "# Exercício 3\n",
    "DCTY = [[353,-22],[-14,-10]]\n",
    "DCTCb = [[266,8],[5,2]]\n",
    "DCTCr = [[276,-1],[-1,3]]"
   ]
  },
  {
   "cell_type": "code",
   "execution_count": 23,
   "metadata": {},
   "outputs": [
    {
     "output_type": "stream",
     "name": "stdout",
     "text": [
      "[[353 -22]\n [-14 -10]]\n[[153.5 185.5]\n [177.5 189.5]]\n"
     ]
    }
   ],
   "source": [
    "# a)\n",
    "DCTY_INV = dct_inv(DCTY)\n",
    "DCTCb_INV = dct_inv(DCTCb)\n",
    "DCTCr_INV = dct_inv(DCTCr)\n",
    "print(np.array(DCTY))\n",
    "print(DCTY_INV)"
   ]
  },
  {
   "cell_type": "code",
   "execution_count": 24,
   "metadata": {},
   "outputs": [
    {
     "output_type": "stream",
     "name": "stdout",
     "text": [
      "[[[176.808   210.864  ]\n  [201.552   221.904  ]]\n\n [[146.61351 189.4075 ]\n  [178.9195  191.9875 ]]\n\n [[185.2625  202.3405 ]\n  [199.07951 200.94551]]]\n"
     ]
    }
   ],
   "source": [
    "# b)\n",
    "def YCbCr2RGB(Y,Cb,Cr):\n",
    "    Y = np.array(Y)\n",
    "    Cb = np.array(Cb)\n",
    "    Cr = np.array(Cr)\n",
    "\n",
    "    R = 1.164*(Y-16)+1.596*(Cr-128)\n",
    "    G = 1.164*(Y-16)-0.813*(Cr-128)-0.392*(Cb-128)\n",
    "    B = 1.164*(Y-16)+2.017*(Cb-128)\n",
    "    RGB = np.stack([R,G,B])\n",
    "    return RGB\n",
    "RGB = YCbCr2RGB(DCTY_INV,DCTCb_INV,DCTCr_INV)\n",
    "print(RGB)"
   ]
  },
  {
   "cell_type": "code",
   "execution_count": 26,
   "metadata": {},
   "outputs": [
    {
     "output_type": "stream",
     "name": "stdout",
     "text": [
      "[[[158.78365 191.21576]\n  [183.03575 196.44069]]\n\n [[155.84099 194.924  ]\n  [185.20688 199.01672]]\n\n [[196.94366 218.93123]\n  [214.40242 218.12617]]]\n"
     ]
    }
   ],
   "source": [
    "# c)\n",
    "#M_XYZ2sRGB = [[ 3.2405, -1.5371,-0.4985],\n",
    "#              [-0.9693,  1.8760, 0.0416],\n",
    "#              [ 0.0556, -0.2040, 1.0572]]\n",
    "def XYZ2sRGB(XYZ):\n",
    "    R = 3.2405*XYZ[0,:,:]-1.5371*XYZ[1,:,:]-0.4985*XYZ[2,:,:]\n",
    "    G =-0.9693*XYZ[0,:,:]+1.8760*XYZ[1,:,:]+0.0416*XYZ[2,:,:]\n",
    "    B = 0.0556*XYZ[0,:,:]-0.2040*XYZ[1,:,:]+1.0572*XYZ[2,:,:]\n",
    "    return np.stack([R,G,B])\n",
    "\n",
    "def sRGB2XYZ(RGB):\n",
    "    X = 0.4125*RGB[0,:,:]+0.3576*RGB[1,:,:]+0.1804*RGB[2,:,:]\n",
    "    Y = 0.2127*RGB[0,:,:]+0.7152*RGB[1,:,:]+0.0722*RGB[2,:,:]\n",
    "    Z = 0.0193*RGB[0,:,:]+0.1192*RGB[1,:,:]+0.9503*RGB[2,:,:]\n",
    "    return np.stack([X,Y,Z])\n",
    "XYZ = sRGB2XYZ(RGB)\n",
    "print(XYZ)"
   ]
  },
  {
   "cell_type": "code",
   "execution_count": 36,
   "metadata": {},
   "outputs": [],
   "source": [
    "# d)\n",
    "def gamma(channel):\n",
    "    if channel<=0.0031308:\n",
    "        return 12.92*channel\n",
    "    return 1.055*np.power(channel,1/2.4)-0.055\n",
    "\n",
    "def gamma_correction(RGB):\n",
    "    R = gamma(RGB[0,:,:])\n",
    "    G = gamma(RGB[1,:,:])\n",
    "    B = gamma(RGB[2,:,:])\n",
    "    return np.stack([R,G,B])\n",
    "################################################\n",
    "def gamma_inv(channel):\n",
    "    h,w = channel.shape\n",
    "    result = np.zeros([h,w])\n",
    "    for i in range(w):\n",
    "        for j in range(h):\n",
    "            if channel[i,j]<=0.04045:\n",
    "                result[i,j] = channel[i,j]/12.92\n",
    "            result[i,j] = np.power(((channel[i,j]+0.055)/1.055),2.4)\n",
    "    return result\n",
    "\n",
    "def gamma_correction_inv(RGB):\n",
    "    R = gamma_inv(RGB[0,:,:])\n",
    "    G = gamma_inv(RGB[1,:,:])\n",
    "    B = gamma_inv(RGB[2,:,:])\n",
    "    return np.stack([R,G,B])"
   ]
  },
  {
   "cell_type": "code",
   "execution_count": 37,
   "metadata": {},
   "outputs": [
    {
     "output_type": "stream",
     "name": "stdout",
     "text": [
      "[[[0.37245689 0.55812015]\n  [0.50658238 0.59479364]]\n\n [[0.33590277 0.54686483]\n  [0.48835182 0.57430009]]\n\n [[0.50554267 0.63689577]\n  [0.60824842 0.63161935]]]\n"
     ]
    }
   ],
   "source": [
    "sRGB = gamma_correction_inv(RGB/255.0)\n",
    "XYZ = sRGB2XYZ(sRGB)\n",
    "print(XYZ)\n",
    "# branco ???\n",
    "# laranja ???"
   ]
  },
  {
   "cell_type": "code",
   "execution_count": 41,
   "metadata": {},
   "outputs": [
    {
     "output_type": "stream",
     "name": "stdout",
     "text": [
      "[[ 0.5         0.5         0.5         0.5       ]\n [ 0.5         0.5        -0.5        -0.5       ]\n [ 0.70710678 -0.70710678  0.          0.        ]\n [ 0.          0.          0.70710678 -0.70710678]]\n[[ 0.5         0.5         0.70710678  0.        ]\n [ 0.5         0.5        -0.70710678  0.        ]\n [ 0.5        -0.5         0.          0.70710678]\n [ 0.5        -0.5         0.         -0.70710678]]\n[[ 0.5         0.5         0.70710678  0.        ]\n [ 0.5         0.5        -0.70710678  0.        ]\n [ 0.5        -0.5         0.          0.70710678]\n [ 0.5        -0.5        -0.         -0.70710678]]\n"
     ]
    }
   ],
   "source": [
    "# Exercício 4\n",
    "# a)\n",
    "H4 =   [[1,1,1,1],\n",
    "        [1,1,-1,-1],\n",
    "        [np.sqrt(2),-np.sqrt(2),0,0],\n",
    "        [0,0,np.sqrt(2),-np.sqrt(2)]]\n",
    "H4 = np.array(H4)/2\n",
    "print(H4)\n",
    "print(H4.T)\n",
    "print(np.linalg.inv(H4))"
   ]
  },
  {
   "cell_type": "code",
   "execution_count": null,
   "metadata": {},
   "outputs": [],
   "source": [
    "# T = HFH.T\n",
    "# AB = BA = I\n",
    "# Prove que H4.T = np.linalg.inv(H4)"
   ]
  },
  {
   "cell_type": "code",
   "execution_count": 44,
   "metadata": {},
   "outputs": [
    {
     "output_type": "stream",
     "name": "stdout",
     "text": [
      "[[0. 1. 0. 1.]\n [1. 0. 1. 0.]\n [1. 1. 0. 0.]\n [0. 0. 1. 1.]]\n[[ 2.          0.          0.          0.        ]\n [ 0.          0.          0.          0.        ]\n [ 0.          0.         -1.         -1.        ]\n [ 0.          1.41421356  0.          0.        ]]\n"
     ]
    }
   ],
   "source": [
    "# b)\n",
    "# T = HFH.T\n",
    "def Haar(F):\n",
    "    H4F = np.matmul(H4,F)\n",
    "    T = np.matmul(H4F,H4.T)\n",
    "    return T\n",
    "F =[[0,1,0,1],\n",
    "    [1,0,1,0],\n",
    "    [1,1,0,0],\n",
    "    [0,0,1,1]]\n",
    "F = np.array(F, dtype=np.float32)\n",
    "T = Haar(F)\n",
    "\n",
    "print(F)\n",
    "print(T)"
   ]
  }
 ]
}