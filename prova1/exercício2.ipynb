{
 "metadata": {
  "language_info": {
   "codemirror_mode": {
    "name": "ipython",
    "version": 3
   },
   "file_extension": ".py",
   "mimetype": "text/x-python",
   "name": "python",
   "nbconvert_exporter": "python",
   "pygments_lexer": "ipython3",
   "version": "3.7.0-final"
  },
  "orig_nbformat": 2,
  "kernelspec": {
   "name": "Python 3.7.0 64-bit ('cntg': conda)",
   "display_name": "Python 3.7.0 64-bit ('cntg': conda)",
   "metadata": {
    "interpreter": {
     "hash": "da38ee619f33491ea56bc9ba7b12e0a3edaf94d032cdd61f20c50d887a8a31c3"
    }
   }
  }
 },
 "nbformat": 4,
 "nbformat_minor": 2,
 "cells": [
  {
   "cell_type": "code",
   "execution_count": 40,
   "metadata": {},
   "outputs": [
    {
     "output_type": "stream",
     "name": "stdout",
     "text": [
      "[[352  -1]\n [-72 -10]]\n[[265  10]\n [  1   5]]\n[[271 -76]\n [-76  72]]\n"
     ]
    }
   ],
   "source": [
    "import numpy as np\n",
    "\n",
    "# Questão 2\n",
    "RA = 11201721076\n",
    "R1,R2,R3,R4 = 1,72,10,76\n",
    "\n",
    "DCTY = [[352,-R1],[-R2,-10]]\n",
    "DCTCb= [[265, R3],[ R1,  5]]\n",
    "DCTCr= [[271,-R4],[-R4, R2]]\n",
    "\n",
    "DCTY = np.array(DCTY )\n",
    "DCTCb= np.array(DCTCb)\n",
    "DCTCr= np.array(DCTCr)\n",
    "\n",
    "print(DCTY )\n",
    "print(DCTCb)\n",
    "print(DCTCr)"
   ]
  },
  {
   "cell_type": "code",
   "execution_count": 44,
   "metadata": {},
   "outputs": [
    {
     "output_type": "stream",
     "name": "stdout",
     "text": [
      "Resultados das DCTs Inversas\nDCTY_inv \n [[134.5 145.5]\n [216.5 207.5]]\nDCTCb_inv\n [[140.5 125.5]\n [134.5 129.5]]\nDCTCr_inv\n [[ 95.5  99.5]\n [ 99.5 247.5]]\n\nMatrizes de Transformação\nTY \n [[  0.31417038   0.34729955]\n [-23.91202673 -23.25055679]]\nTCb\n [[-0.48859316 -0.50760456]\n [26.99771863 26.00152091]]\nTCr\n [[1.05110658 1.89094351]\n [2.49144584 5.43349592]]\n\nTeste de Sanidade - Multiplicando DCTY por TY\nnp.matmul(DCTY,TY)=\n [[134.5 145.5]\n [216.5 207.5]]\n"
     ]
    }
   ],
   "source": [
    "# a) (1,0) Obtenha a inversa DCT das componentes Y, Cb e Cr, através da forma matricial, sendo que para isso deverá ser mostrada a matriz de transformação (2x2).\n",
    "\n",
    "# Definindo funções para a a dct 2d inversa\n",
    "def C(w,k):\n",
    "    if w == 0:\n",
    "        return (1/k)**(1/2)\n",
    "    return (2/k)**(1/2)\n",
    "\n",
    "def summation2(dctBlock,x,y):\n",
    "    res = 0\n",
    "    h,w = dctBlock.shape\n",
    "    for u in range(w):\n",
    "        for v in range(h):\n",
    "            res_temp = C(u,w)*C(v,h)*dctBlock[u,v]\n",
    "            res_temp*= np.cos(((2*x+1)*u*np.pi)/(2*w))* np.cos(((2*y+1)*v*np.pi)/(2*h))\n",
    "            res+= res_temp\n",
    "    return res\n",
    "\n",
    "def dct_inv(dctBlock):\n",
    "    dctBlock = np.float32(dctBlock)\n",
    "    dctInvBlock = np.zeros(dctBlock.shape)\n",
    "    h,w = dctBlock.shape\n",
    "    for x in range(w):\n",
    "        for y in range(h):\n",
    "            dctInvBlock[x,y] = summation2(dctBlock,x,y)\n",
    "    return np.float32(dctInvBlock)\n",
    "\n",
    "# Aplicando DCT inversa\n",
    "DCTY_inv = dct_inv(DCTY )\n",
    "DCTCb_inv= dct_inv(DCTCb)\n",
    "DCTCr_inv= dct_inv(DCTCr)\n",
    "\n",
    "print(\"Resultados das DCTs Inversas\")\n",
    "print(\"DCTY_inv \\n\",DCTY_inv )\n",
    "print(\"DCTCb_inv\\n\",DCTCb_inv)\n",
    "print(\"DCTCr_inv\\n\",DCTCr_inv)\n",
    "\n",
    "# Encontrando matriz de transformação\n",
    "def getTmatrix(A,B):\n",
    "    A_inv = np.linalg.inv(A)\n",
    "    X = np.matmul(A_inv,B)\n",
    "    return X\n",
    "\n",
    "TY = getTmatrix(DCTY,DCTY_inv)\n",
    "TCb= getTmatrix(DCTCb,DCTCb_inv)\n",
    "TCr= getTmatrix(DCTCr,DCTCr_inv)\n",
    "\n",
    "print(\"\\nMatrizes de Transformação\")\n",
    "print(\"TY \\n\",TY )\n",
    "print(\"TCb\\n\",TCb)\n",
    "print(\"TCr\\n\",TCr)\n",
    "\n",
    "print(\"\\nTeste de Sanidade - Multiplicando DCTY por TY\")\n",
    "print(\"np.matmul(DCTY,TY)=\\n\",np.matmul(DCTY,TY))\n"
   ]
  },
  {
   "cell_type": "code",
   "execution_count": 42,
   "metadata": {},
   "outputs": [
    {
     "output_type": "stream",
     "name": "stdout",
     "text": [
      "RGB\n [[[ 86.06401  105.25201 ]\n  [187.896    413.628   ]]\n\n [[159.45651  174.8885  ]\n  [254.00449  125.164505]]\n\n [[163.1465   145.69551 ]\n  [246.49251  225.9315  ]]]\n"
     ]
    }
   ],
   "source": [
    "# b) (1,0) Faça a transformação para o espaço RGB, para todos os quatro pixels:  pixel(1,1)/ pixel (1,2)/ pixel (2,1)/ pixel (2,2).\n",
    "\n",
    "def YCbCr2RGB(Y,Cb,Cr):\n",
    "    Y = np.array(Y)\n",
    "    Cb = np.array(Cb)\n",
    "    Cr = np.array(Cr)\n",
    "\n",
    "    R = 1.164*(Y-16)+1.596*(Cr-128)\n",
    "    G = 1.164*(Y-16)-0.813*(Cr-128)-0.392*(Cb-128)\n",
    "    B = 1.164*(Y-16)+2.017*(Cb-128)\n",
    "    RGB = np.stack([R,G,B])\n",
    "    return RGB\n",
    "RGB = YCbCr2RGB(DCTY_inv,DCTCb_inv,DCTCr_inv)\n",
    "print(\"RGB\\n\",RGB)"
   ]
  },
  {
   "cell_type": "code",
   "execution_count": 43,
   "metadata": {},
   "outputs": [
    {
     "output_type": "stream",
     "name": "stdout",
     "text": [
      "XYZ\n [[[121.95468 132.24005]\n  [212.80637 256.13843]]\n\n [[144.12828 157.98657]\n  [239.42624 193.80858]]\n\n [[175.70636 161.33252]\n  [268.14554 237.60533]]]\n"
     ]
    }
   ],
   "source": [
    "# c) (0,5) Converta este pixel obtido para o espaço XYZ e xyz. Obs.: não é necessário fazer a correção gamma.\n",
    "\n",
    "def RGB2XYZ(RGB):\n",
    "    X = 0.4125*RGB[0,:,:]+0.3576*RGB[1,:,:]+0.1804*RGB[2,:,:]\n",
    "    Y = 0.2127*RGB[0,:,:]+0.7152*RGB[1,:,:]+0.0722*RGB[2,:,:]\n",
    "    Z = 0.0193*RGB[0,:,:]+0.1192*RGB[1,:,:]+0.9503*RGB[2,:,:]\n",
    "    return np.stack([X,Y,Z])\n",
    "\n",
    "XYZ = RGB2XYZ(RGB)\n",
    "print(\"XYZ\\n\",XYZ)"
   ]
  }
 ]
}