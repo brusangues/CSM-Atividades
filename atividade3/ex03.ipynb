{
 "metadata": {
  "language_info": {
   "codemirror_mode": {
    "name": "ipython",
    "version": 3
   },
   "file_extension": ".py",
   "mimetype": "text/x-python",
   "name": "python",
   "nbconvert_exporter": "python",
   "pygments_lexer": "ipython3",
   "version": "3.7.0-final"
  },
  "orig_nbformat": 2,
  "kernelspec": {
   "name": "Python 3.7.0 64-bit ('cntg': conda)",
   "display_name": "Python 3.7.0 64-bit ('cntg': conda)",
   "metadata": {
    "interpreter": {
     "hash": "da38ee619f33491ea56bc9ba7b12e0a3edaf94d032cdd61f20c50d887a8a31c3"
    }
   }
  }
 },
 "nbformat": 4,
 "nbformat_minor": 2,
 "cells": [
  {
   "cell_type": "code",
   "execution_count": 3,
   "metadata": {},
   "outputs": [],
   "source": [
    "import numpy as np"
   ]
  },
  {
   "cell_type": "code",
   "execution_count": 4,
   "metadata": {
    "tags": []
   },
   "outputs": [
    {
     "output_type": "stream",
     "name": "stdout",
     "text": [
      "(8, 8) [[128 -64 -64 128 128 -64 -64 128]\n [128 -64 -64 128 128 -64 -64 128]\n [128 -64 -64 128 128 -64 -64 128]\n [128 -64 -64 128 128 -64 -64 128]\n [128 -64 -64 128 128 -64 -64 128]\n [128 -64 -64 128 128 -64 -64 128]\n [128 -64 -64 128 128 -64 -64 128]\n [128 -64 -64 128 128 -64 -64 128]]\n"
     ]
    }
   ],
   "source": [
    "# Criando o bloco f\n",
    "l1 = [128 for i in range(8)]\n",
    "l2 = [-64 for i in range(8)]\n",
    "f = [l1,l2,l2,l1,l1,l2,l2,l1]\n",
    "f = np.array(f).T\n",
    "print(f.shape, f)"
   ]
  },
  {
   "cell_type": "code",
   "execution_count": 5,
   "metadata": {
    "tags": []
   },
   "outputs": [
    {
     "output_type": "stream",
     "name": "stdout",
     "text": [
      "(8, 8) [[ 32  32  32  32  32  32  32  32]\n [-32 -32 -32 -32 -32 -32 -32 -32]\n [ 32  32  32  32  32  32  32  32]\n [-32 -32 -32 -32 -32 -32 -32 -32]\n [ 32  32  32  32  32  32  32  32]\n [-32 -32 -32 -32 -32 -32 -32 -32]\n [ 32  32  32  32  32  32  32  32]\n [-32 -32 -32 -32 -32 -32 -32 -32]]\n"
     ]
    }
   ],
   "source": [
    "# Criando o bloco g\n",
    "l3 = [32 for i in range(8)]\n",
    "l4 = [-32 for i in range(8)]\n",
    "\n",
    "g = [l3 if i % 2 == 0 else l4 for i in range(8)]\n",
    "g = np.array(g)\n",
    "print(g.shape, g)\n"
   ]
  },
  {
   "cell_type": "code",
   "execution_count": 28,
   "metadata": {},
   "outputs": [],
   "source": [
    "# Definindo funções para a a dct 2d\n",
    "def C(w,k):\n",
    "    if w == 0:\n",
    "        return (1/k)**(1/2)\n",
    "    return (2/k)**(1/2)\n",
    "\n",
    "def summation1(block,u,v):\n",
    "    h,w = block.shape\n",
    "    res = 0\n",
    "    for x in range(w):\n",
    "        for y in range(h):\n",
    "            res+= block[x,y]* np.cos(((2*x+1)*u*np.pi)/(2*w))* np.cos(((2*y+1)*v*np.pi)/(2*h))\n",
    "    return res\n",
    "\n",
    "def F(block,u,v):\n",
    "    h,w = block.shape\n",
    "    return C(u,w)*C(v,h)*summation1(block,u,v)\n",
    "\n",
    "def dct(block):\n",
    "    block = np.float32(block)\n",
    "    dctBlock = np.zeros(block.shape)\n",
    "    h,w = block.shape\n",
    "    for u in range(w):\n",
    "        for v in range(h):\n",
    "            dctBlock[u,v] = F(block,u,v)\n",
    "    return np.float32(dctBlock) "
   ]
  },
  {
   "cell_type": "code",
   "execution_count": 29,
   "metadata": {},
   "outputs": [],
   "source": [
    "# Definindo funções para a a dct 2d inversa (deve haver algum erro)\n",
    "def summation2(dctBlock,x,y):\n",
    "    res = 0\n",
    "    h,w = dctBlock.shape\n",
    "    for u in range(w):\n",
    "        for v in range(h):\n",
    "            res_temp = C(u,w)*C(v,h)*dctBlock[u,v]\n",
    "            res_temp*= np.cos(((2*x+1)*u*np.pi)/(2*w))* np.cos(((2*y+1)*v*np.pi)/(2*h))\n",
    "            res+= res_temp\n",
    "    return res\n",
    "\n",
    "def dct_inv(dctBlock):\n",
    "    dctBlock = np.float32(dctBlock)\n",
    "    dctInvBlock = np.zeros(dctBlock.shape)\n",
    "    h,w = dctBlock.shape\n",
    "    for x in range(w):\n",
    "        for y in range(h):\n",
    "            dctInvBlock[x,y] = summation2(dctBlock,x,y)\n",
    "    return np.float32(dctInvBlock)"
   ]
  },
  {
   "cell_type": "code",
   "execution_count": 30,
   "metadata": {
    "tags": []
   },
   "outputs": [
    {
     "output_type": "stream",
     "name": "stdout",
     "text": [
      "f:\n[[128 -64 -64 128 128 -64 -64 128]\n [128 -64 -64 128 128 -64 -64 128]\n [128 -64 -64 128 128 -64 -64 128]\n [128 -64 -64 128 128 -64 -64 128]\n [128 -64 -64 128 128 -64 -64 128]\n [128 -64 -64 128 128 -64 -64 128]\n [128 -64 -64 128 128 -64 -64 128]\n [128 -64 -64 128 128 -64 -64 128]]\nf_dct\n[[256.   0.  -0.  -0. 768.   0.  -0.  -0.]\n [ -0.   0.  -0.  -0.   0.  -0.   0.   0.]\n [  0.   0.  -0.  -0.  -0.   0.  -0.   0.]\n [  0.   0.   0.   0.   0.  -0.  -0.  -0.]\n [  0.  -0.  -0.   0.   0.   0.  -0.  -0.]\n [  0.   0.  -0.   0.   0.  -0.   0.   0.]\n [ -0.  -0.   0.  -0.  -0.   0.   0.  -0.]\n [ -0.   0.   0.   0.  -0.  -0.  -0.   0.]]\nf_dct_inv\n[[128. -64. -64. 128. 128. -64. -64. 128.]\n [128. -64. -64. 128. 128. -64. -64. 128.]\n [128. -64. -64. 128. 128. -64. -64. 128.]\n [128. -64. -64. 128. 128. -64. -64. 128.]\n [128. -64. -64. 128. 128. -64. -64. 128.]\n [128. -64. -64. 128. 128. -64. -64. 128.]\n [128. -64. -64. 128. 128. -64. -64. 128.]\n [128. -64. -64. 128. 128. -64. -64. 128.]]\n"
     ]
    }
   ],
   "source": [
    "# Aplicando a dct e a dct inversa\n",
    "f_dct = dct(f)\n",
    "f_dct_inv = dct_inv(f_dct)\n",
    "\n",
    "# Resultados\n",
    "np.set_printoptions(precision=0, suppress=True)\n",
    "print(\"f:\"); print(f)\n",
    "print(\"f_dct\"); print(f_dct)\n",
    "print(\"f_dct_inv\"); print(f_dct_inv)"
   ]
  },
  {
   "cell_type": "code",
   "execution_count": 31,
   "metadata": {
    "tags": []
   },
   "outputs": [
    {
     "output_type": "stream",
     "name": "stdout",
     "text": [
      "g:\n[[ 32  32  32  32  32  32  32  32]\n [-32 -32 -32 -32 -32 -32 -32 -32]\n [ 32  32  32  32  32  32  32  32]\n [-32 -32 -32 -32 -32 -32 -32 -32]\n [ 32  32  32  32  32  32  32  32]\n [-32 -32 -32 -32 -32 -32 -32 -32]\n [ 32  32  32  32  32  32  32  32]\n [-32 -32 -32 -32 -32 -32 -32 -32]]\ng_dct\n[[  0.   0.   0.   0.   0.   0.   0.  -0.]\n [ 46.   0.  -0.   0.   0.   0.  -0.  -0.]\n [  0.  -0.  -0.   0.   0.   0.  -0.   0.]\n [ 54.   0.  -0.   0.   0.   0.  -0.  -0.]\n [  0.   0.   0.   0.  -0.   0.   0.   0.]\n [ 81.   0.  -0.   0.   0.   0.  -0.  -0.]\n [  0.   0.   0.  -0.   0.  -0.   0.   0.]\n [232.   0.  -0.   0.   0.   0.  -0.  -0.]]\ng_dct_inv\n[[ 32.  32.  32.  32.  32.  32.  32.  32.]\n [-32. -32. -32. -32. -32. -32. -32. -32.]\n [ 32.  32.  32.  32.  32.  32.  32.  32.]\n [-32. -32. -32. -32. -32. -32. -32. -32.]\n [ 32.  32.  32.  32.  32.  32.  32.  32.]\n [-32. -32. -32. -32. -32. -32. -32. -32.]\n [ 32.  32.  32.  32.  32.  32.  32.  32.]\n [-32. -32. -32. -32. -32. -32. -32. -32.]]\n"
     ]
    }
   ],
   "source": [
    "# Aplicando a dct e a dct inversa\n",
    "g_dct = dct(g)\n",
    "g_dct_inv = dct_inv(g_dct)\n",
    "\n",
    "# Resultados\n",
    "np.set_printoptions(precision=0, suppress=True)\n",
    "print(\"g:\"); print(g)\n",
    "print(\"g_dct\"); print(g_dct)\n",
    "print(\"g_dct_inv\"); print(g_dct_inv)"
   ]
  },
  {
   "cell_type": "code",
   "execution_count": 32,
   "metadata": {},
   "outputs": [],
   "source": [
    "# Exemplo da aula foi feito como teste de sanidade\n",
    "h =[[63,  33,  36,  28,  63, 81,  86,  98],\n",
    "    [ 27,  18,  17,  11,  22, 48, 104, 108],\n",
    "    [ 72,  52,  28,  15,  17, 16,  47,  77],\n",
    "    [132, 100,  56,  19,  10,  9,  21,  55],\n",
    "    [187, 186, 166,  88,  13, 34,  43,  51],\n",
    "    [184, 203, 199, 177,  82, 44,  97,  73],\n",
    "    [211, 214, 208, 198, 134, 52,  78,  83],\n",
    "    [211, 210, 203, 191, 133, 79,  74,  86]]\n",
    "h = np.float32(h)"
   ]
  },
  {
   "cell_type": "code",
   "execution_count": 33,
   "metadata": {
    "tags": []
   },
   "outputs": [
    {
     "output_type": "stream",
     "name": "stdout",
     "text": [
      "h:\n[[ 63.  33.  36.  28.  63.  81.  86.  98.]\n [ 27.  18.  17.  11.  22.  48. 104. 108.]\n [ 72.  52.  28.  15.  17.  16.  47.  77.]\n [132. 100.  56.  19.  10.   9.  21.  55.]\n [187. 186. 166.  88.  13.  34.  43.  51.]\n [184. 203. 199. 177.  82.  44.  97.  73.]\n [211. 214. 208. 198. 134.  52.  78.  83.]\n [211. 210. 203. 191. 133.  79.  74.  86.]]\nh_dct\n[[ 720.  210.  104.  -69.   10.   20.  -12.    7.]\n [-327. -260.   67.   70.  -10.  -15.   21.    8.]\n [  93.  -84.  -66.   16.   24.   -2.   -5.    9.]\n [  89.   33.  -19.  -20.  -26.   21.   -3.    0.]\n [  -9.   42.   18.   27.   -7.  -17.   29.   -7.]\n [  -5.   15.  -10.   17.   32.  -15.   -4.    7.]\n [  10.    3.  -12.   -1.    2.    3.   -2.   -3.]\n [  12.   30.    0.   -3.   -3.   -6.   12.   -1.]]\nh_dct_inv\n[[ 63.  33.  36.  28.  63.  81.  86.  98.]\n [ 27.  18.  17.  11.  22.  48. 104. 108.]\n [ 72.  52.  28.  15.  17.  16.  47.  77.]\n [132. 100.  56.  19.  10.   9.  21.  55.]\n [187. 186. 166.  88.  13.  34.  43.  51.]\n [184. 203. 199. 177.  82.  44.  97.  73.]\n [211. 214. 208. 198. 134.  52.  78.  83.]\n [211. 210. 203. 191. 133.  79.  74.  86.]]\n"
     ]
    }
   ],
   "source": [
    "# Aplicando a dct e a dct inversa\n",
    "h_dct = dct(h)\n",
    "h_dct_inv = dct_inv(h_dct)\n",
    "\n",
    "# Resultados\n",
    "np.set_printoptions(precision=0, suppress=True)\n",
    "print(\"h:\"); print(h)\n",
    "print(\"h_dct\"); print(h_dct)\n",
    "print(\"h_dct_inv\"); print(h_dct_inv)"
   ]
  },
  {
   "cell_type": "code",
   "execution_count": 37,
   "metadata": {},
   "outputs": [
    {
     "output_type": "stream",
     "name": "stdout",
     "text": [
      "[[10. 12.]\n [15. 20.]]\n[[29. -4.]\n [-6.  2.]]\n[[10. 12.]\n [15. 20.]]\n"
     ]
    }
   ],
   "source": [
    "# Lista para Prova 1\n",
    "A = [[10.4,12.4],[14.9,20.4]]\n",
    "A = np.array(A)\n",
    "\n",
    "# Aplicando a dct e a dct inversa\n",
    "A_dct = dct(A)\n",
    "A_inv = dct_inv(A_dct)\n",
    "\n",
    "# Print\n",
    "print(A)\n",
    "print(A_dct)\n",
    "print(A_inv)"
   ]
  },
  {
   "cell_type": "code",
   "execution_count": 59,
   "metadata": {},
   "outputs": [
    {
     "output_type": "stream",
     "name": "stdout",
     "text": [
      "0.07485000000000014\n0.07485000000000014\n"
     ]
    }
   ],
   "source": [
    "# Mean Squared Error\n",
    "def MSE(a,b):\n",
    "    h,w = a.shape\n",
    "    c = np.subtract(a,b)\n",
    "    c = np.multiply(c,c)\n",
    "    res = np.sum(c)/(h*w)\n",
    "    return res\n",
    "\n",
    "def PSNR(a,b): \n",
    "    mse = MSE(a,b)\n",
    "\n",
    "    L = 255.0\n",
    "    psnr = 20 * np.log10(L /np.sqrt(mse))\n",
    "    return psnr\n",
    "\n",
    "A_DCT  = np.array([[7.26,9.21],[9.14,11.59]])\n",
    "A_DCT2 = np.array([[7,9],[9,12]])\n",
    "print(MSE(A_DCT,A_DCT2))\n",
    "print(MSE3(A_DCT,A_DCT2))"
   ]
  },
  {
   "cell_type": "code",
   "execution_count": 43,
   "metadata": {},
   "outputs": [
    {
     "output_type": "stream",
     "name": "stdout",
     "text": [
      "[[1. 1.]\n [1. 1.]]\n"
     ]
    }
   ],
   "source": [
    "# Quantização\n",
    "def quantize(a,q):\n",
    "    b = np.divide(a,q)\n",
    "    b = np.round(b)\n",
    "    return b\n",
    "q = np.array([[5,7],[7,8]])\n",
    "print(quantize(A_DCT,q))"
   ]
  },
  {
   "cell_type": "code",
   "execution_count": 44,
   "metadata": {},
   "outputs": [
    {
     "output_type": "stream",
     "name": "stdout",
     "text": [
      "[[20. 15. 29. 20.]\n [17. 16. 31. 22.]\n [15. 18. 17. 25.]\n [21. 22. 19. 18.]]\n[[34.  3. 52.  9.]\n [ 1.  2. -2. -0.]\n [38. -2. 39. -4.]\n [-5. -1.  3. -5.]]\n"
     ]
    }
   ],
   "source": [
    "# Questão 2\n",
    "Y = [[20.4, 15.2, 29.1, 20.5],\n",
    "    [17.3, 15.9, 31.2, 22.3],\n",
    "    [15.2, 18.1, 17.0, 25.1],\n",
    "    [20.8, 22.3, 18.7, 17.8]]\n",
    "Y = np.array(Y)\n",
    "\n",
    "# a)\n",
    "Y_DCT_2x2 = np.zeros(Y.shape, dtype=np.float32)\n",
    "for i in range(0,4,2):\n",
    "    for j in range(0,4,2):\n",
    "        Y_DCT_2x2[i:i+2,j:j+2] = dct(Y[i:i+2,j:j+2])\n",
    "\n",
    "print(Y)\n",
    "print(Y_DCT_2x2)"
   ]
  },
  {
   "cell_type": "code",
   "execution_count": 46,
   "metadata": {},
   "outputs": [
    {
     "output_type": "stream",
     "name": "stdout",
     "text": [
      "[[198. 561.]\n [533. 518.]]\n"
     ]
    }
   ],
   "source": [
    "# b)\n",
    "MSEs = np.zeros((2,2))\n",
    "for i in range(0,4,2):\n",
    "    for j in range(0,4,2):\n",
    "        MSEs[int(i/2),int(j/2)] = MSE(Y[i:i+2,j:j+2], Y_DCT_2x2[i:i+2,j:j+2])\n",
    "print(MSEs)"
   ]
  },
  {
   "cell_type": "code",
   "execution_count": 47,
   "metadata": {},
   "outputs": [
    {
     "output_type": "stream",
     "name": "stdout",
     "text": [
      "[[ 7.  0. 10.  1.]\n [ 0.  0. -0. -0.]\n [ 8. -0.  8. -1.]\n [-1. -0.  0. -1.]]\n"
     ]
    }
   ],
   "source": [
    "# c)\n",
    "Q = np.array([[5,15],[15,20]])\n",
    "\n",
    "Y_DCT_Q = np.zeros(Y.shape)\n",
    "for i in range(0,4,2):\n",
    "    for j in range(0,4,2):\n",
    "        Y_DCT_Q[i:i+2,j:j+2] = quantize(Y_DCT_2x2[i:i+2,j:j+2],q)\n",
    "print(Y_DCT_Q)"
   ]
  },
  {
   "cell_type": "code",
   "execution_count": 48,
   "metadata": {},
   "outputs": [
    {
     "output_type": "stream",
     "name": "stdout",
     "text": [
      "[[4. 4. 6. 4.]\n [4. 4. 6. 4.]\n [4. 4. 3. 5.]\n [4. 4. 4. 4.]]\n"
     ]
    }
   ],
   "source": [
    "# d)\n",
    "Y_INV = np.zeros(Y.shape)\n",
    "\n",
    "for i in range(0,4,2):\n",
    "    for j in range(0,4,2):\n",
    "        Y_INV[i:i+2,j:j+2] = dct_inv(Y_DCT_Q[i:i+2,j:j+2])\n",
    "print(Y_INV)"
   ]
  },
  {
   "cell_type": "code",
   "execution_count": 60,
   "metadata": {},
   "outputs": [
    {
     "output_type": "stream",
     "name": "stdout",
     "text": [
      "23.643634155605582\n"
     ]
    }
   ],
   "source": [
    "# e)\n",
    "psnr = PSNR(Y,Y_INV)\n",
    "print(psnr)"
   ]
  },
  {
   "cell_type": "code",
   "execution_count": 27,
   "metadata": {},
   "outputs": [
    {
     "output_type": "stream",
     "name": "stdout",
     "text": [
      "[[20. 15. 29. 20.]\n [17. 16. 31. 22.]\n [15. 18. 17. 25.]\n [21. 22. 19. 18.]]\n[[20. 15.]\n [17. 16.]]\n[[29. 20.]\n [31. 22.]]\n[[15. 18.]\n [21. 22.]]\n[[17. 25.]\n [19. 18.]]\n"
     ]
    }
   ],
   "source": [
    "print(Y)\n",
    "for i in range(0,4,2):\n",
    "    for j in range(0,4,2):\n",
    "        print(Y[i:i+2,j:j+2])"
   ]
  }
 ]
}