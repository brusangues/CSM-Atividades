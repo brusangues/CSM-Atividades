{
  "nbformat": 4,
  "nbformat_minor": 0,
  "metadata": {
    "kernelspec": {
      "display_name": "Python 3",
      "language": "python",
      "name": "python3"
    },
    "language_info": {
      "codemirror_mode": {
        "name": "ipython",
        "version": 3
      },
      "file_extension": ".py",
      "mimetype": "text/x-python",
      "name": "python",
      "nbconvert_exporter": "python",
      "pygments_lexer": "ipython3",
      "version": "3.7.4"
    },
    "colab": {
      "name": "Lab6_PDS_Voz.ipynb",
      "provenance": []
    }
  },
  "cells": [
    {
      "cell_type": "markdown",
      "metadata": {
        "id": "am5sgA0r7dmJ"
      },
      "source": [
        "# UFABC - ESTI019 - Codificação de Sinais Multimídia\n",
        "<h2> Laboratório 6 - PDS da Voz </h2>\n",
        "<h3> Prof. Mário Minami </h2>\n",
        "<h2> OBJETIVOS: </h2>\n",
        "<ol>\n",
        "<li> Gravar Arquivos de Áudio com dígitos, números gerais, texto lido e poesia </li>\n",
        "<li> Leitura de Arquivos de Áudio e janelamento</li>\n",
        "<li> Cálculo das Energias de Tempo Curto</li>\n",
        "<li> Cálculo dos Espectrogramas</li>\n",
        "<li> Determinação do Pitch, da Frequência Fundamental e das Formantes ($f_1$ a $f_4$) de Algumas Vogais</li>\n",
        "<li>Determinação de fonemas surdos, sonoros, consoantes gerais e plosivos</li>\n",
        "</ol>"
      ]
    },
    {
      "cell_type": "markdown",
      "metadata": {
        "id": "5GIbu8fGGq34"
      },
      "source": [
        "<h2> 1. Gravar Arquivos de Áudio com dígitos, números gerais, texto lido e poesia </h2>"
      ]
    },
    {
      "cell_type": "markdown",
      "metadata": {
        "id": "5hbG8OUyG0E5"
      },
      "source": [
        "Usando o Audacity, ou outro programa de áudio, grave arquivos com:\n",
        "<ul>\n",
        "<li> Dígitos </li>\n",
        "<li> Números Gerais </li>\n",
        "<li> Texto lido </li>\n",
        "<li> Poesia declamada </li>\n",
        "</ul>\n"
      ]
    },
    {
      "cell_type": "markdown",
      "metadata": {
        "id": "g3QIHV4oHTSS"
      },
      "source": [
        "<h2> 2. Leitura de Arquivos de Áudio e janelamento </h2>"
      ]
    },
    {
      "cell_type": "code",
      "metadata": {
        "id": "4ZuIj8ic8NKW",
        "outputId": "0792a726-920d-4950-8eb7-77e6a3447e47",
        "colab": {
          "base_uri": "https://localhost:8080/"
        }
      },
      "source": [
        "from google.colab import drive\n",
        "drive.mount('/content/drive')"
      ],
      "execution_count": 15,
      "outputs": [
        {
          "output_type": "stream",
          "text": [
            "Drive already mounted at /content/drive; to attempt to forcibly remount, call drive.mount(\"/content/drive\", force_remount=True).\n"
          ],
          "name": "stdout"
        }
      ]
    },
    {
      "cell_type": "code",
      "metadata": {
        "id": "5d4kypis7dmN"
      },
      "source": [
        "import numpy as np\n",
        "import matplotlib.pyplot as plt\n",
        "import librosa\n",
        "import librosa.display\n",
        "import IPython.display\n",
        "#OBS.: insira nome do arquivo WAV\n",
        "audio1 = '/content/drive/My Drive/Colab Notebooks/Entre_Leva_Catia_Falada.wav'\n",
        "print(audio1)\n",
        "v1 , sr1 = librosa.load(audio1)\n",
        "print(type(v1), type(sr1))\n",
        "print(v1.shape, sr1)\n",
        "# Player será aberto! AGUARDE até abrir!\n",
        "IPython.display.Audio(data=v1, rate=sr1)"
      ],
      "execution_count": null,
      "outputs": []
    },
    {
      "cell_type": "code",
      "metadata": {
        "scrolled": true,
        "id": "xg49VvNH7dmT"
      },
      "source": [
        "plt.figure()\n",
        "fig, ax = plt.subplots(figsize=(15, 5))\n",
        "librosa.display.waveplot(v1, sr=sr1)\n",
        "plt.title('Voz da Catia' + audio1)"
      ],
      "execution_count": null,
      "outputs": []
    },
    {
      "cell_type": "markdown",
      "metadata": {
        "id": "Ve4SZVlK7dmV"
      },
      "source": [
        "### 2.1 Definição dos Parâmetros da Análise "
      ]
    },
    {
      "cell_type": "code",
      "metadata": {
        "id": "-7V9ZuTY7dmW"
      },
      "source": [
        "print('Frequência de Amostragem', sr1)"
      ],
      "execution_count": null,
      "outputs": []
    },
    {
      "cell_type": "code",
      "metadata": {
        "id": "RrKV6QK17dmY"
      },
      "source": [
        "fa = sr1\n",
        "print(fa)"
      ],
      "execution_count": null,
      "outputs": []
    },
    {
      "cell_type": "code",
      "metadata": {
        "id": "y3k0J09L7dma"
      },
      "source": [
        "Ts = 0.04   # Tempo de duração do segmento em segundos\n",
        "Nj = int(Ts*fa) # Número de pontos da Janela\n",
        "print('Tamanho do Segmento', Nj)"
      ],
      "execution_count": null,
      "outputs": []
    },
    {
      "cell_type": "code",
      "metadata": {
        "id": "nP9lemoI7dmd"
      },
      "source": [
        "Nseg = int(len(v1)/Nj)\n",
        "Nover = int(Nj*0.5)\n",
        "print('Número de Segmentos no Arquivo', Nseg, '. Pontos Soprepostos', Nover )"
      ],
      "execution_count": null,
      "outputs": []
    },
    {
      "cell_type": "markdown",
      "metadata": {
        "id": "ScLT7vb47dmg"
      },
      "source": [
        "<h3> 2.2 Obtendo uma Janela de Hamming </h3>"
      ]
    },
    {
      "cell_type": "code",
      "metadata": {
        "id": "YDJP6LnC7dmg"
      },
      "source": [
        "from scipy import signal\n",
        "hm = signal.get_window('hamming', Nj)\n",
        "plt.plot(hm); plt.title('Janela de Hamming')"
      ],
      "execution_count": null,
      "outputs": []
    },
    {
      "cell_type": "markdown",
      "metadata": {
        "id": "Q1ond1kDItxv"
      },
      "source": [
        "<h2> 3. Energia de Tempo Curto </h2>"
      ]
    },
    {
      "cell_type": "markdown",
      "metadata": {
        "id": "qem4Gwd8LK_G"
      },
      "source": [
        "### 3.1 Cálculo para arquivo de teste "
      ]
    },
    {
      "cell_type": "code",
      "metadata": {
        "id": "9_noHDJZ7dmi"
      },
      "source": [
        "Nover = int(Nj*0.5)\n",
        "Nseg = int(len(v1)/Nj)\n",
        "E = []\n",
        "for l in range(1, Nseg):\n",
        "    xjan = v1[(l-1)*Nj+Nover:l*Nj+Nover]*hm\n",
        "    x2 = list(np.array(xjan**2))\n",
        "    aux = sum(x2)/Nj\n",
        "    E.append(aux)\n",
        "E = 10*np.log10(E)\n",
        "Emin = np.min(E)  # calcula nível de ruído de fundo\n",
        "plt.figure\n",
        "fig, ax = plt.subplots(figsize=(15, 3))\n",
        "plt.plot(E - Emin)\n",
        "plt.title('Energia da Voz' + audio1)\n",
        "plt.ylabel('Energia[db]'); plt.xlabel('Segmento')"
      ],
      "execution_count": null,
      "outputs": []
    },
    {
      "cell_type": "markdown",
      "metadata": {
        "id": "rINs0DHa7dmm"
      },
      "source": [
        "### 3.2 Agora leia os seus arquivos gravados e: \n",
        "**Determine o Contorno de Energia para três arquivos que vocês gravaram:** \n",
        "1. *dígitos*\n",
        "2. *voz falada*\n",
        "3. *voz declamada (poema)*\n"
      ]
    },
    {
      "cell_type": "markdown",
      "metadata": {
        "id": "KR6uzZjs7dmm"
      },
      "source": [
        "<h2> 4. Espectrogramas </h2>"
      ]
    },
    {
      "cell_type": "markdown",
      "metadata": {
        "id": "sl5e6eC_LRbe"
      },
      "source": [
        "### 4.1 Visualização do Espectrograma para Arquivo de Teste"
      ]
    },
    {
      "cell_type": "code",
      "metadata": {
        "id": "ijxwGMyE7dmn"
      },
      "source": [
        "import matplotlib.pyplot as plt\n",
        "plt.figure(figsize=(12, 8))\n",
        "D = librosa.amplitude_to_db(np.abs(librosa.stft(v1)), ref=np.max)\n",
        "fig, ax = plt.subplots(figsize=(15, 10))\n",
        "librosa.display.specshow(D, x_axis='time',y_axis='linear')\n",
        "plt.colorbar(format='%+2.0f dB')\n",
        "plt.title('Potência e Espectrograma Linear na Frequência'+ audio1)"
      ],
      "execution_count": null,
      "outputs": []
    },
    {
      "cell_type": "markdown",
      "metadata": {
        "id": "fO2AaeMb7dmt"
      },
      "source": [
        "### 4.2 Agora com os seus arquivos\n",
        "**Faça os espectrogramas para os arquivos que vocês gravaram e calculem o contorno de energia:**\n",
        "<ul>\n",
        "<li> Dígitos </li>\n",
        "<li> Texto Lido </li>\n",
        "<li> Poesia </li>\n",
        "</ul>"
      ]
    },
    {
      "cell_type": "markdown",
      "metadata": {
        "id": "7j-vx7jz7dmu"
      },
      "source": [
        "<h2> 5. Determinação do Pitch e da F0 </h2>"
      ]
    },
    {
      "cell_type": "markdown",
      "metadata": {
        "id": "65FuGH8PL4s1"
      },
      "source": [
        "### 5.1 Pitch do Arquivo Teste1"
      ]
    },
    {
      "cell_type": "code",
      "metadata": {
        "id": "C5FaeaMf7dmu"
      },
      "source": [
        "# Segmente um fonema que tenha Pitch, p.ex \"En\" de \"Entre\"\n",
        "v1En = v1[4000:16000]\n",
        "IPython.display.Audio(data=v1En, rate=sr1)\n"
      ],
      "execution_count": null,
      "outputs": []
    },
    {
      "cell_type": "code",
      "metadata": {
        "id": "WFdVir0P7dmw"
      },
      "source": [
        "from matplotlib.ticker import (MultipleLocator, FormatStrFormatter, AutoMinorLocator)\n",
        "acEn = librosa.autocorrelate(v1En, max_size= sr1/32)\n",
        "fig, ax = plt.subplots(figsize=(15, 5))\n",
        "ax.xaxis.set_major_locator(MultipleLocator(1))\n",
        "y1 = acEn[1:400]\n",
        "x1 = range(len(y1))\n",
        "xx = [i*1000/sr1 for i in x1]\n",
        "plt.grid(True)\n",
        "ax.plot(xx,y1)\n",
        "\n",
        "plt.title('Auto-correlação 1')\n",
        "plt.xlabel('tempo em [ms]')\n",
        "plt.show()"
      ],
      "execution_count": null,
      "outputs": []
    },
    {
      "cell_type": "markdown",
      "metadata": {
        "id": "N_6tvGnn7dmy"
      },
      "source": [
        "### O Período de Pitch ($T_{0}$) será o intervalo entre picos sucessivos. \n",
        "### A Frequência Fundamental ($f_0$) será o inverso do periódo de Pitch"
      ]
    },
    {
      "cell_type": "markdown",
      "metadata": {
        "id": "-H1kbQVAMLN8"
      },
      "source": [
        "### 5.2 Pitch do Arquivo Teste2"
      ]
    },
    {
      "cell_type": "code",
      "metadata": {
        "id": "h5HI0hy-7dmz"
      },
      "source": [
        "# Segmente outro fonema que tenha Pitch, p.ex \"Ag\" de \"Agora\"\n",
        "v1A = v1[48000:56000]\n",
        "IPython.display.Audio(data=v1A, rate=sr1)"
      ],
      "execution_count": null,
      "outputs": []
    },
    {
      "cell_type": "code",
      "metadata": {
        "id": "eWx-D6dn7dm0"
      },
      "source": [
        "acA = librosa.autocorrelate(v1A, max_size= sr1/32)\n",
        "fig, ax2 = plt.subplots(figsize=(15, 5))\n",
        "ax2.xaxis.set_major_locator(MultipleLocator(1))\n",
        "y2 = acA[1:500]\n",
        "x2 = range(len(y2))\n",
        "xx2 = [i*1000/sr1 for i in x2]\n",
        "plt.grid(True)\n",
        "ax2.plot(xx2,y2)\n",
        "\n",
        "plt.title('Auto-correlação 2')\n",
        "plt.xlabel('tempo em [ms]')\n",
        "plt.show()"
      ],
      "execution_count": null,
      "outputs": []
    },
    {
      "cell_type": "markdown",
      "metadata": {
        "id": "jdoLrW8R7dm3"
      },
      "source": [
        "Determine o Período de Pitch e a Fundamental desta vogal. \n",
        "\n",
        "## Agora com cada um dos seus arquivos: \n",
        "**Determine o Pitch e a $f_0$ da vogais que desejarem dos seus arquivos, para as versões:**\n",
        "1. Dígitos\n",
        "2. Falada\n",
        "3. Declamada"
      ]
    },
    {
      "cell_type": "markdown",
      "metadata": {
        "id": "kPXYv9gb7dm3"
      },
      "source": [
        "## 5.3 Determinação das Formantes "
      ]
    },
    {
      "cell_type": "markdown",
      "metadata": {
        "id": "LTilE6PwMe4d"
      },
      "source": [
        "#### 5.3.a Formantes do trecho de teste"
      ]
    },
    {
      "cell_type": "code",
      "metadata": {
        "id": "3vgnmgm97dm4"
      },
      "source": [
        "# AUDIO DE \"En\" em v1En\n",
        "f, Pxx_spec = signal.periodogram(v1En, fa, 'flattop', scaling='spectrum')\n",
        "lf = len(f)\n",
        "fig, AX = plt.subplots(figsize=(15, 5))\n",
        "AX.xaxis.set_major_locator(MultipleLocator(100))\n",
        "AX.plot(f[:int(lf/4)], 10*np.log10(np.sqrt(Pxx_spec[:int(lf/4)])))\n",
        "plt.xlabel('Frequência [Hz]')\n",
        "plt.ylabel('Log-spectro [dB]')\n",
        "plt.title('Espectro da Vogal /En/ de <Entre> de '+audio1)\n",
        "plt.grid(True)\n",
        "plt.show()\n"
      ],
      "execution_count": null,
      "outputs": []
    },
    {
      "cell_type": "markdown",
      "metadata": {
        "id": "QokRYBLU7dm5"
      },
      "source": [
        "#### 5.3.b Os quatro primeros picos no espectro são as formantes $f_1$ a $f_4$\n",
        "### 5.4 Agora com seus arquivos\n",
        "Determine as formantes das vogais dos arquivos que vocês calcularam os espectrogramas"
      ]
    },
    {
      "cell_type": "markdown",
      "metadata": {
        "id": "gMk-_hIYNLLZ"
      },
      "source": [
        "## 6. Determinação de Consoantes e Plosivos"
      ]
    },
    {
      "cell_type": "markdown",
      "metadata": {
        "id": "gsfHi3GCNSGK"
      },
      "source": [
        "Usando alguns de seus arquivos, no espectrograma, determine algumas consoantes e em especial as plosivas"
      ]
    },
    {
      "cell_type": "code",
      "metadata": {
        "id": "5pmCXTYoE36J"
      },
      "source": [
        ""
      ],
      "execution_count": null,
      "outputs": []
    }
  ]
}